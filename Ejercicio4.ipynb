{
  "nbformat": 4,
  "nbformat_minor": 0,
  "metadata": {
    "colab": {
      "name": "Ejercicio4.ipynb",
      "private_outputs": true,
      "provenance": [],
      "collapsed_sections": [],
      "authorship_tag": "ABX9TyMfwwRLVDJLJdFS4+7eeMF2",
      "include_colab_link": true
    },
    "kernelspec": {
      "name": "python3",
      "display_name": "Python 3"
    },
    "language_info": {
      "name": "python"
    }
  },
  "cells": [
    {
      "cell_type": "markdown",
      "metadata": {
        "id": "view-in-github",
        "colab_type": "text"
      },
      "source": [
        "<a href=\"https://colab.research.google.com/github/Aplicadas-FCiencias/PasandoLista/blob/main/Ejercicio4.ipynb\" target=\"_parent\"><img src=\"https://colab.research.google.com/assets/colab-badge.svg\" alt=\"Open In Colab\"/></a>"
      ]
    },
    {
      "cell_type": "code",
      "source": [
        "import numpy as np\n",
        "import matplotlib.pyplot as plt\n",
        "import matplotlib.patches as mpatches\n",
        "\n",
        "def sierpinski(s):\n",
        "    a = s * .5\n",
        "    b = s * .5 + np.array([0.5, 0])\n",
        "    c = s * .5 + np.array([0.25, np.sqrt(3)/4])\n",
        "    return np.array([a,b,c])\n",
        "\n",
        "triangulo = np.array([[0, 0],\n",
        "              [1, 0],\n",
        "              [0.5, np.sqrt(3)/2]])\n",
        "\n",
        "ntriangulos = 7\n",
        "\n",
        "for e in range(ntriangulos):\n",
        "    triangulo = sierpinski(triangulo)\n",
        "\n",
        "f1 = plt.figure()\n",
        "ax1 = f1.add_subplot(111, aspect='equal')\n",
        "for t in triangulo.reshape(3**ntriangulos,3,2):\n",
        "    ax1.add_patch(mpatches.Polygon(t, fc=\"b\"))\n",
        "\n",
        "plt.show()"
      ],
      "metadata": {
        "id": "4PTgd5yBn6un"
      },
      "execution_count": null,
      "outputs": []
    },
    {
      "cell_type": "markdown",
      "source": [
        "## *Para poder generar otro tamaño de triangulo, dentro del código donde dice \"ntriangulos = 7\", se puede cambiar el 7 por otro número distinto y genera el triangulo que corresponde.*\n",
        "\n",
        "## *Además en la penúltima línea, en** \"ax1.add_patch(mpatches.Polygon(t, fc=\"b\"))\"**, podemos cambiar a \"b\" por la inicial de cualquier otro color en inglés, para darle color al triangulo.*\n",
        "\n",
        "Nota: No se porque no carga la imagen del triangulo, supongo que se debe compilar la funcón de nuevo desde colaboratory para que se pueda ver :D"
      ],
      "metadata": {
        "id": "XN_z7PZ51m1x"
      }
    },
    {
      "cell_type": "code",
      "source": [
        ""
      ],
      "metadata": {
        "id": "oZzmUWLh2Cad"
      },
      "execution_count": null,
      "outputs": []
    },
    {
      "cell_type": "markdown",
      "source": [
        ""
      ],
      "metadata": {
        "id": "JodhliUC2K88"
      }
    }
  ]
}